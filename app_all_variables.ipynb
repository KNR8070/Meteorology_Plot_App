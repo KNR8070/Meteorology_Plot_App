{
 "cells": [
  {
   "cell_type": "markdown",
   "id": "877e9d19-155c-455f-adc0-a937fe30661e",
   "metadata": {},
   "source": [
    "#%% [markdown]\n",
    "\n",
    "## Meteorological Visualisation App."
   ]
  },
  {
   "cell_type": "markdown",
   "id": "3d885066-ebb1-421a-b591-dd718e93233a",
   "metadata": {},
   "source": [
    "#%% [markdown]\n",
    "\n",
    "# load modules"
   ]
  },
  {
   "cell_type": "code",
   "execution_count": null,
   "id": "27dbf6b7-34a8-4a02-a427-21b3957f58fe",
   "metadata": {},
   "outputs": [],
   "source": [
    "import streamlit as st\n",
    "import xarray as xr\n",
    "import numpy as np\n",
    "import matplotlib.pyplot as plt\n",
    "from windrose import WindroseAxes\n",
    "import cartopy.crs as ccrs\n",
    "import cartopy.feature as cfeature\n",
    "import calendar"
   ]
  },
  {
   "cell_type": "markdown",
   "id": "0a11b775-fcbc-4cef-a582-2951dc993abf",
   "metadata": {},
   "source": [
    "#%% [markdown] \n",
    "\n",
    "# Load wind data from NetCDF"
   ]
  },
  {
   "cell_type": "code",
   "execution_count": null,
   "id": "b7b1a598-5ba1-4226-a97f-c706a7ab37bb",
   "metadata": {},
   "outputs": [
    {
     "name": "stderr",
     "output_type": "stream",
     "text": [
      "2024-11-13 16:31:55.328 No runtime found, using MemoryCacheStorageManager\n",
      "2024-11-13 16:31:55.331 No runtime found, using MemoryCacheStorageManager\n",
      "2024-11-13 16:31:55.333 No runtime found, using MemoryCacheStorageManager\n",
      "2024-11-13 16:31:55.338 No runtime found, using MemoryCacheStorageManager\n",
      "2024-11-13 16:31:55.331 No runtime found, using MemoryCacheStorageManager\n",
      "2024-11-13 16:31:55.333 No runtime found, using MemoryCacheStorageManager\n",
      "2024-11-13 16:31:55.338 No runtime found, using MemoryCacheStorageManager\n",
      "2024-11-13 16:31:55.340 No runtime found, using MemoryCacheStorageManager\n"
     ]
    }
   ],
   "source": [
    "@st.cache_data\n",
    "def load_temp_data():\n",
    "    ds_temp = xr.open_dataset(\"data/air.2m.mon.ltm.1991-2020.nc\")\n",
    "    return ds_temp\n",
    "@st.cache_data\n",
    "def load_uwind_data():\n",
    "    ds_u = xr.open_dataset(\"data/uwnd.mon.ltm.1991-2020.nc\")\n",
    "    return ds_u\n",
    "@st.cache_data\n",
    "def load_vwind_data():\n",
    "    ds_v = xr.open_dataset(\"data/vwnd.mon.ltm.1991-2020.nc\")\n",
    "    return ds_v\n",
    "@st.cache_data\n",
    "def load_pr_data():\n",
    "    ds_pr = xr.open_dataset(\"data/precip.mon.ltm.1991-2020.nc\")\n",
    "    return ds_pr\n",
    "@st.cache_data\n",
    "def load_rh_data():   \n",
    "    ds_rh = xr.open_dataset(\"data/rhum.mon.ltm.1991-2020.nc\")\n",
    "    return ds_rh"
   ]
  },
  {
   "cell_type": "markdown",
   "id": "fe15c110-14be-482c-86e1-a886d40cac04",
   "metadata": {},
   "source": [
    "#%% [markdown] \n",
    "\n",
    " Function to select the spatial plot box"
   ]
  },
  {
   "cell_type": "code",
   "execution_count": null,
   "id": "1bbf144f-42a0-49cc-be07-62040dae5211",
   "metadata": {},
   "outputs": [],
   "source": [
    "def select_box(lat,lon):\n",
    "    # Latitude and Longitude Box Selection\n",
    "    if ((lat_min > lat_max) or lon_min > lon_max):\n",
    "        st.text(\"ERROR: Minimum value greater than Maximum\")    \n",
    "    return lat_min, lat_max, lon_min, lon_max"
   ]
  },
  {
   "cell_type": "markdown",
   "id": "734ed5f6-7580-42e7-9f5f-c45f5f9bb2c1",
   "metadata": {},
   "source": [
    "#%% [markdown] \n",
    "\n",
    " Function to plot windrose Plot"
   ]
  },
  {
   "cell_type": "code",
   "execution_count": null,
   "id": "62615901-6c4c-4013-99f9-5577621cd6e3",
   "metadata": {},
   "outputs": [],
   "source": [
    "def plot_wind_rose(speed_pwr, direction_pwr,lat_l,lon_l):\n",
    "    fig_ws = plt.figure(figsize=(4, 4))\n",
    "    ax = WindroseAxes.from_ax()\n",
    "    ax.bar(direction_pwr, speed_pwr, normed=True, opening=0.8, edgecolor='white')\n",
    "    ax.set_title('Latitude = '+str(lat_l)+' and Longitude = '+str(lon_l))\n",
    "    ax.set_legend()\n",
    "    ax.text(0.7,-0.2,'Data Source: '+ds_temp.attrs['source'],fontsize=4,transform=ax.transAxes)\n",
    "    st.pyplot()  "
   ]
  },
  {
   "cell_type": "markdown",
   "id": "c84ed240-b976-4a34-8393-1f000d2616b3",
   "metadata": {},
   "source": [
    "#%% [markdown] \n",
    "\n",
    " Function to plot wind vector plot"
   ]
  },
  {
   "cell_type": "code",
   "execution_count": null,
   "id": "d6397263-484e-42aa-85f0-4515f8ca7668",
   "metadata": {},
   "outputs": [],
   "source": [
    "def plot_spatial(temp_subset, lat_min, lat_max, lon_min, lon_max):\n",
    "    # Select data within specified lat/lon box\n",
    "    fig, ax3 = plt.subplots(nrows=2,ncols=6,subplot_kw={'projection': ccrs.PlateCarree()},\n",
    "                           sharex=True,sharey=True,figsize=(12,4))\n",
    "    for i_row in np.arange(2):\n",
    "        for i_col in np.arange(6):\n",
    "            ax3[i_row,i_col].set_extent([lon_min, lon_max, lat_min, lat_max], crs=ccrs.PlateCarree())\n",
    "            ax3[i_row,i_col].add_feature(cfeature.COASTLINE)\n",
    "            # ax.add_feature(cfeature.BORDERS)\n",
    "            \n",
    "            # Plot contour fill for wind speed\n",
    "            lons, lats = np.meshgrid(temp_subset.lon, temp_subset.lat)\n",
    "            s_plot = ax3[i_row,i_col].contourf(lons, lats, \n",
    "                                              np.squeeze(temp_subset.isel(time=int(i_row*6+i_col)))-273.15, \n",
    "                                              cmap='viridis', extend='both')\n",
    "            ax3[i_row,i_col].set_title(calendar.month_name[int(i_row*6+i_col)+1][:3])\n",
    "            \n",
    "            if i_row==1:\n",
    "                ax3[i_row,i_col].set_xlabel('Longitude')\n",
    "                ax3[i_row,i_col].set_xticks(np.linspace(lon_min,lon_max,num=2,endpoint=True))\n",
    "                ax3[i_row,i_col].set_xticklabels([lon_min,lon_max],fontsize=6)\n",
    "                if i_col==0:\n",
    "                    ax3[i_row,i_col].set_ylabel('Latitude')\n",
    "\n",
    "            else: #0th Row\n",
    "                if i_col==0:\n",
    "                    ax3[i_row,i_col].set_ylabel('Latitude')\n",
    "                    ax3[i_row,i_col].set_yticks(np.linspace(lat_min,lat_max,num=2,endpoint=True))\n",
    "                else:                    \n",
    "                    ax3[i_row,i_col].set_yticks(np.linspace(lat_min,lat_max,num=2,endpoint=True))\n",
    "    \n",
    "    fig.colorbar(s_plot, ax=ax3, label=\"2m Temperature (degC)\", shrink=0.75)\n",
    "    ax3.text(0.7,-0.2,'Data Source: '+ds_temp.attrs['source'],fontsize=4,transform=ax3.transAxes)\n",
    "    st.pyplot(fig)"
   ]
  },
  {
   "cell_type": "markdown",
   "id": "fde466aa-98fd-4fe5-9368-065b9d76e87b",
   "metadata": {},
   "source": [
    "#%% [markdown]\n",
    "\n",
    "Function to plot spatial variation in variables"
   ]
  },
  {
   "cell_type": "code",
   "execution_count": null,
   "id": "a74bb4c3-e41c-4833-b345-2da03bd7d0a6",
   "metadata": {},
   "outputs": [],
   "source": [
    "def plot_spatial2(var_subset,lat_min, lat_max, lon_min, lon_max,time_s):\n",
    "    plt.rcParams['ytick.right'] = plt.rcParams['ytick.labelright'] = False\n",
    "    fig, ax3 = plt.subplots(subplot_kw={'projection': ccrs.PlateCarree()})#,\n",
    "\n",
    "    ax3.set_extent([lon_min, lon_max, lat_min, lat_max], crs=ccrs.PlateCarree())\n",
    "    ax3.add_feature(cfeature.COASTLINE)\n",
    "    \n",
    "    # Plot contour fill for wind speed\n",
    "    lons, lats = np.meshgrid(var_subset.lon, var_subset.lat)\n",
    "    \n",
    "    if var_subset.var_desc=='Air temperature':\n",
    "        plot_data = np.squeeze(var_subset.isel(time=time_s))-273.15\n",
    "        s_plot = ax3.contourf(lons,lats,plot_data,cmap='viridis', extend='both')\n",
    "        fig.colorbar(s_plot, ax=ax3, label=\"2m Temperature (degC)\", shrink=0.75)\n",
    "        \n",
    "    elif var_subset.var_desc=='Precipitation':\n",
    "        plot_data = np.squeeze(var_subset.isel(time=time_s))\n",
    "        s_plot = ax3.contourf(lons,lats,plot_data,cmap='viridis', extend='both')\n",
    "        fig.colorbar(s_plot, ax=ax3, label=\"Mean Precipitation (mm/day)\", shrink=0.75)\n",
    "    else:\n",
    "        plot_data = np.squeeze(var_subset.isel(time=time_s))\n",
    "        s_plot = ax3.contourf(lons,lats,plot_data,cmap='viridis', extend='both')\n",
    "        fig.colorbar(s_plot, ax=ax3, label=\"Relative humidity (%)\", shrink=0.75)\n",
    "        \n",
    "    ax3.set_title(calendar.month_name[time_s][:3])\n",
    "    ax3.set_xlabel('Longitude')\n",
    "    ax3.set_ylabel('Latitude')\n",
    "\n",
    "    ax3.set_xticks(np.linspace(lon_min,lon_max,num=5,endpoint=True))\n",
    "    ax3.set_yticks(np.linspace(lat_min,lat_max,num=5,endpoint=True))\n",
    "    ax3.text(0.7,-0.2,'Data Source: '+ds_temp.attrs['source'],fontsize=4,transform=ax3.transAxes)\n",
    "    st.pyplot(fig)"
   ]
  },
  {
   "cell_type": "markdown",
   "id": "de585647-068a-4a27-8deb-5f255bf5028e",
   "metadata": {},
   "source": [
    "#%% [markdown]\n",
    "\n",
    " Function to plot time series of variables"
   ]
  },
  {
   "cell_type": "code",
   "execution_count": null,
   "id": "5c21355b-b39d-40f2-99a2-8f153ef262a1",
   "metadata": {},
   "outputs": [],
   "source": [
    "def plot_time_series2(var): \n",
    "    # plt.rcParams['ytick.right'] = plt.rcParams['ytick.labelright'] = True\n",
    "    fig, ax1 = plt.subplots(figsize=(12,6))\n",
    "    color = 'tab:blue'\n",
    "    if var.var_desc == 'Air temperature':        \n",
    "        ax1.plot(np.arange(1,13), var-273.15,color=color)\n",
    "        ax1.set_ylabel(\"2m Temperature (degC)\",color=color, fontsize=14)\n",
    "        ax1.set_yticks(np.linspace(np.floor(min(var.values - 273.15)),np.floor(max(var.values - 273.15)+1),num=5))\n",
    "    elif var.var_desc == 'Precipitation':\n",
    "        ax1.plot(np.arange(1,13), var,color=color)\n",
    "        ax1.set_ylabel(\"Mean Precipitation (mm/day)\",color=color, fontsize=14)\n",
    "        ax1.set_yticks(np.linspace(np.floor(min(var.values)),np.floor(max(var.values)+1),num=5))\n",
    "    else:\n",
    "        ax1.plot(np.arange(1,13), var,color=color)\n",
    "        ax1.set_xlabel(\"Month\")\n",
    "        ax1.set_ylabel(\"Relative humidity (%)\",color=color, fontsize=14)\n",
    "        ax1.set_yticks(np.linspace(np.floor(min(var.values)),np.floor(max(var.values)+1),num=5))\n",
    "    \n",
    "    ax1.set_xlabel(\"Month\")\n",
    "    ax1.set_xticks(np.arange(1,13))\n",
    "    ax1.set_xticklabels(['Jan', 'Feb', 'Mar', 'Apr', 'May', 'Jun', 'Jul', 'Aug',\n",
    "                        'Sep','Oct','Nov', 'Dec'])\n",
    "    ax1.text(0.7,-0.2,'Data Source: '+ds_temp.attrs['source'],fontsize=4,transform=ax1.transAxes)\n",
    "    st.pyplot(fig)"
   ]
  },
  {
   "cell_type": "markdown",
   "id": "1c7f6965-50fd-4866-99f1-00768475d86e",
   "metadata": {},
   "source": [
    "#%% [markdown]\n",
    "\n",
    " Function to covert 0 360 to -180 to 180"
   ]
  },
  {
   "cell_type": "code",
   "execution_count": null,
   "id": "e7ded857-184a-4522-8ee2-720a76813d20",
   "metadata": {},
   "outputs": [],
   "source": [
    "def convert_180_180(ds_var):\n",
    "    ds_var.coords['lon'] = (ds_var.coords['lon'] + 179.0625) % 358.125 - 179.0625\n",
    "    ds_var2 = ds_var.sortby(ds_var.lon)\n",
    "    return (ds_var2)"
   ]
  },
  {
   "cell_type": "markdown",
   "id": "b9705150-dd4b-4bb4-a04c-ef4c704a4324",
   "metadata": {},
   "source": [
    "#%% [markdown]\n",
    "\n",
    " function to get the user input spatial box for plotting"
   ]
  },
  {
   "cell_type": "code",
   "execution_count": null,
   "id": "0b2161b3-359d-40ce-bd74-d849081aec58",
   "metadata": {},
   "outputs": [],
   "source": [
    "def user_input_box(lat,lon):\n",
    "    lat_min = st.sidebar.number_input(\"Enter Lat. min.\", min_value=float(str(lat.values.min())), \n",
    "                                    max_value=float(str(lat.values.max())), \n",
    "                                    value=-85.00,step=0.01, format='%2.2f')\n",
    "    lat_max = st.sidebar.number_input(\"Enter Lat. max.\", float(str(lat.values.min())), \n",
    "                                    max_value=float(str(lat.values.max())), \n",
    "                                    value=85.00,step=0.01, format='%2.2f',\n",
    "                                    placeholder=\"Must be greater than Lat min.\")\n",
    "    lon_min = st.sidebar.number_input(\"Enter Lon. min.\", min_value=float(str(lon.values.min())), \n",
    "                                    max_value=float(str(lon.values.max())), \n",
    "                                    value=-178.00,step=0.01, format='%3.2f')\n",
    "    lon_max = st.sidebar.number_input(\"Enter Lon. max.\", min_value=float(str(lon.values.min())), \n",
    "                                    max_value=float(str(lon.values.max())), \n",
    "                                    value=178.00,step=0.01, format='%3.2f',\n",
    "                                    placeholder=\"Must be greater than Lon min.\")\n",
    "    return lat_min, lat_max, lon_min, lon_max"
   ]
  },
  {
   "cell_type": "markdown",
   "id": "4079e61d-f525-45c7-9f1c-f775d0c076b0",
   "metadata": {},
   "source": [
    "#%% [markdown]\n",
    "\n",
    " function to find lat, lon location for plotting"
   ]
  },
  {
   "cell_type": "code",
   "execution_count": null,
   "id": "3c7d07a5-99cd-4d16-8bbb-a784041efbad",
   "metadata": {},
   "outputs": [],
   "source": [
    "def user_input_loc(lat,lon):\n",
    "    lat_loc = st.sidebar.number_input(\"Enter Latitude\", min_value=float(str(lat.values.min())), \n",
    "                                          max_value=float(str(lat.values.max())), \n",
    "                                          value=0.00,step=0.01, format='%2.2f')\n",
    "    lon_loc = st.sidebar.number_input(\"Enter Longitude\", min_value=float(str(lon.values.min())), \n",
    "                                          max_value=float(str(lon.values.max())), \n",
    "                                          value=0.00,step=0.01, format='%3.2f')\n",
    "    return lat_loc, lon_loc"
   ]
  },
  {
   "cell_type": "markdown",
   "id": "f09cda5a-bc37-4c55-910b-ff87e8134692",
   "metadata": {},
   "source": [
    "#%% [markdown] \n",
    "\n",
    "# Streamlit App"
   ]
  },
  {
   "cell_type": "code",
   "execution_count": null,
   "id": "e079c73e-ab93-43af-921d-4e8bab6e2e57",
   "metadata": {},
   "outputs": [
    {
     "name": "stderr",
     "output_type": "stream",
     "text": [
      "2024-11-13 16:37:35.404 Thread 'MainThread': missing ScriptRunContext! This warning can be ignored when running in bare mode.\n",
      "2024-11-13 16:37:35.405 Thread 'MainThread': missing ScriptRunContext! This warning can be ignored when running in bare mode.\n",
      "2024-11-13 16:37:35.406 Thread 'MainThread': missing ScriptRunContext! This warning can be ignored when running in bare mode.\n",
      "2024-11-13 16:37:35.406 Thread 'MainThread': missing ScriptRunContext! This warning can be ignored when running in bare mode.\n",
      "2024-11-13 16:37:35.407 Thread 'MainThread': missing ScriptRunContext! This warning can be ignored when running in bare mode.\n",
      "2024-11-13 16:37:35.409 Thread 'MainThread': missing ScriptRunContext! This warning can be ignored when running in bare mode.\n",
      "2024-11-13 16:37:35.405 Thread 'MainThread': missing ScriptRunContext! This warning can be ignored when running in bare mode.\n",
      "2024-11-13 16:37:35.406 Thread 'MainThread': missing ScriptRunContext! This warning can be ignored when running in bare mode.\n",
      "2024-11-13 16:37:35.406 Thread 'MainThread': missing ScriptRunContext! This warning can be ignored when running in bare mode.\n",
      "2024-11-13 16:37:35.407 Thread 'MainThread': missing ScriptRunContext! This warning can be ignored when running in bare mode.\n",
      "2024-11-13 16:37:35.409 Thread 'MainThread': missing ScriptRunContext! This warning can be ignored when running in bare mode.\n",
      "2024-11-13 16:37:35.411 Thread 'MainThread': missing ScriptRunContext! This warning can be ignored when running in bare mode.\n",
      "2024-11-13 16:37:35.419 Thread 'MainThread': missing ScriptRunContext! This warning can be ignored when running in bare mode.\n",
      "2024-11-13 16:37:35.422 Thread 'MainThread': missing ScriptRunContext! This warning can be ignored when running in bare mode.\n",
      "2024-11-13 16:37:35.423 Thread 'MainThread': missing ScriptRunContext! This warning can be ignored when running in bare mode.\n",
      "2024-11-13 16:37:35.427 Thread 'MainThread': missing ScriptRunContext! This warning can be ignored when running in bare mode.\n",
      "2024-11-13 16:37:35.428 Thread 'MainThread': missing ScriptRunContext! This warning can be ignored when running in bare mode.\n",
      "2024-11-13 16:37:35.435 Thread 'MainThread': missing ScriptRunContext! This warning can be ignored when running in bare mode.\n",
      "2024-11-13 16:37:35.436 Thread 'MainThread': missing ScriptRunContext! This warning can be ignored when running in bare mode.\n",
      "2024-11-13 16:37:35.437 Thread 'MainThread': missing ScriptRunContext! This warning can be ignored when running in bare mode.\n",
      "2024-11-13 16:37:35.439 Thread 'MainThread': missing ScriptRunContext! This warning can be ignored when running in bare mode.\n",
      "2024-11-13 16:37:35.440 Thread 'MainThread': missing ScriptRunContext! This warning can be ignored when running in bare mode.\n",
      "2024-11-13 16:37:35.448 Thread 'MainThread': missing ScriptRunContext! This warning can be ignored when running in bare mode.\n",
      "2024-11-13 16:37:35.449 Thread 'MainThread': missing ScriptRunContext! This warning can be ignored when running in bare mode.\n",
      "2024-11-13 16:37:35.450 Thread 'MainThread': missing ScriptRunContext! This warning can be ignored when running in bare mode.\n",
      "2024-11-13 16:37:35.452 Thread 'MainThread': missing ScriptRunContext! This warning can be ignored when running in bare mode.\n",
      "2024-11-13 16:37:35.453 Thread 'MainThread': missing ScriptRunContext! This warning can be ignored when running in bare mode.\n",
      "2024-11-13 16:37:35.457 Thread 'MainThread': missing ScriptRunContext! This warning can be ignored when running in bare mode.\n",
      "2024-11-13 16:37:35.460 Thread 'MainThread': missing ScriptRunContext! This warning can be ignored when running in bare mode.\n",
      "2024-11-13 16:37:35.462 Thread 'MainThread': missing ScriptRunContext! This warning can be ignored when running in bare mode.\n",
      "2024-11-13 16:37:35.463 Thread 'MainThread': missing ScriptRunContext! This warning can be ignored when running in bare mode.\n",
      "2024-11-13 16:37:35.464 Thread 'MainThread': missing ScriptRunContext! This warning can be ignored when running in bare mode.\n"
     ]
    }
   ],
   "source": [
    "st.title(\"Met. Data Visualization App\")\n",
    "ds_temp = convert_180_180(load_temp_data())\n",
    "ds_u = convert_180_180(load_uwind_data())\n",
    "ds_v = convert_180_180(load_vwind_data())\n",
    "ds_pr = convert_180_180(load_pr_data())\n",
    "ds_rh = convert_180_180(load_rh_data())\n",
    "lon = ds_temp['lon']\n",
    "lat = ds_temp['lat']"
   ]
  },
  {
   "cell_type": "markdown",
   "id": "4ed63ded-0882-4473-a6b7-8eda56a340d1",
   "metadata": {},
   "source": [
    "#%% [markdown]\n",
    "\n",
    " User Inputs"
   ]
  },
  {
   "cell_type": "code",
   "execution_count": null,
   "id": "0a8e34d4-a5a4-47d1-8930-f7367288048e",
   "metadata": {},
   "outputs": [
    {
     "name": "stderr",
     "output_type": "stream",
     "text": [
      "2024-11-13 16:37:46.486 Thread 'MainThread': missing ScriptRunContext! This warning can be ignored when running in bare mode.\n",
      "2024-11-13 16:37:46.487 Thread 'MainThread': missing ScriptRunContext! This warning can be ignored when running in bare mode.\n",
      "2024-11-13 16:37:46.488 Thread 'MainThread': missing ScriptRunContext! This warning can be ignored when running in bare mode.\n",
      "2024-11-13 16:37:46.489 Thread 'MainThread': missing ScriptRunContext! This warning can be ignored when running in bare mode.\n",
      "2024-11-13 16:37:46.490 Thread 'MainThread': missing ScriptRunContext! This warning can be ignored when running in bare mode.\n",
      "2024-11-13 16:37:46.491 Thread 'MainThread': missing ScriptRunContext! This warning can be ignored when running in bare mode.\n",
      "2024-11-13 16:37:46.493 Thread 'MainThread': missing ScriptRunContext! This warning can be ignored when running in bare mode.\n",
      "2024-11-13 16:37:46.494 Thread 'MainThread': missing ScriptRunContext! This warning can be ignored when running in bare mode.\n",
      "2024-11-13 16:37:46.495 Thread 'MainThread': missing ScriptRunContext! This warning can be ignored when running in bare mode.\n",
      "2024-11-13 16:37:46.496 Thread 'MainThread': missing ScriptRunContext! This warning can be ignored when running in bare mode.\n",
      "2024-11-13 16:37:46.487 Thread 'MainThread': missing ScriptRunContext! This warning can be ignored when running in bare mode.\n",
      "2024-11-13 16:37:46.488 Thread 'MainThread': missing ScriptRunContext! This warning can be ignored when running in bare mode.\n",
      "2024-11-13 16:37:46.489 Thread 'MainThread': missing ScriptRunContext! This warning can be ignored when running in bare mode.\n",
      "2024-11-13 16:37:46.490 Thread 'MainThread': missing ScriptRunContext! This warning can be ignored when running in bare mode.\n",
      "2024-11-13 16:37:46.491 Thread 'MainThread': missing ScriptRunContext! This warning can be ignored when running in bare mode.\n",
      "2024-11-13 16:37:46.493 Thread 'MainThread': missing ScriptRunContext! This warning can be ignored when running in bare mode.\n",
      "2024-11-13 16:37:46.494 Thread 'MainThread': missing ScriptRunContext! This warning can be ignored when running in bare mode.\n",
      "2024-11-13 16:37:46.495 Thread 'MainThread': missing ScriptRunContext! This warning can be ignored when running in bare mode.\n",
      "2024-11-13 16:37:46.496 Thread 'MainThread': missing ScriptRunContext! This warning can be ignored when running in bare mode.\n",
      "2024-11-13 16:37:46.497 Thread 'MainThread': missing ScriptRunContext! This warning can be ignored when running in bare mode.\n",
      "2024-11-13 16:37:46.498 Thread 'MainThread': missing ScriptRunContext! This warning can be ignored when running in bare mode.\n",
      "2024-11-13 16:37:46.499 Thread 'MainThread': missing ScriptRunContext! This warning can be ignored when running in bare mode.\n",
      "2024-11-13 16:37:46.500 Thread 'MainThread': missing ScriptRunContext! This warning can be ignored when running in bare mode.\n",
      "2024-11-13 16:37:46.502 Thread 'MainThread': missing ScriptRunContext! This warning can be ignored when running in bare mode.\n",
      "2024-11-13 16:37:46.502 Thread 'MainThread': missing ScriptRunContext! This warning can be ignored when running in bare mode.\n",
      "2024-11-13 16:37:46.503 Thread 'MainThread': missing ScriptRunContext! This warning can be ignored when running in bare mode.\n",
      "2024-11-13 16:37:46.504 Thread 'MainThread': missing ScriptRunContext! This warning can be ignored when running in bare mode.\n",
      "2024-11-13 16:37:46.505 Thread 'MainThread': missing ScriptRunContext! This warning can be ignored when running in bare mode.\n",
      "2024-11-13 16:37:46.506 Thread 'MainThread': missing ScriptRunContext! This warning can be ignored when running in bare mode.\n",
      "2024-11-13 16:37:46.507 Thread 'MainThread': missing ScriptRunContext! This warning can be ignored when running in bare mode.\n",
      "2024-11-13 16:37:46.509 Thread 'MainThread': missing ScriptRunContext! This warning can be ignored when running in bare mode.\n",
      "2024-11-13 16:37:46.510 Thread 'MainThread': missing ScriptRunContext! This warning can be ignored when running in bare mode.\n",
      "2024-11-13 16:37:46.511 Thread 'MainThread': missing ScriptRunContext! This warning can be ignored when running in bare mode.\n",
      "2024-11-13 16:37:46.513 Thread 'MainThread': missing ScriptRunContext! This warning can be ignored when running in bare mode.\n",
      "2024-11-13 16:37:46.514 Thread 'MainThread': missing ScriptRunContext! This warning can be ignored when running in bare mode.\n",
      "2024-11-13 16:37:46.515 Thread 'MainThread': missing ScriptRunContext! This warning can be ignored when running in bare mode.\n",
      "2024-11-13 16:37:46.516 Thread 'MainThread': missing ScriptRunContext! This warning can be ignored when running in bare mode.\n",
      "2024-11-13 16:37:46.518 Thread 'MainThread': missing ScriptRunContext! This warning can be ignored when running in bare mode.\n",
      "2024-11-13 16:37:46.519 Thread 'MainThread': missing ScriptRunContext! This warning can be ignored when running in bare mode.\n",
      "2024-11-13 16:37:46.520 Thread 'MainThread': missing ScriptRunContext! This warning can be ignored when running in bare mode.\n",
      "2024-11-13 16:37:46.522 Thread 'MainThread': missing ScriptRunContext! This warning can be ignored when running in bare mode.\n",
      "2024-11-13 16:37:46.541 Thread 'MainThread': missing ScriptRunContext! This warning can be ignored when running in bare mode.\n",
      "2024-11-13 16:37:46.546 Thread 'MainThread': missing ScriptRunContext! This warning can be ignored when running in bare mode.\n",
      "2024-11-13 16:37:46.549 Thread 'MainThread': missing ScriptRunContext! This warning can be ignored when running in bare mode.\n",
      "2024-11-13 16:37:46.551 Thread 'MainThread': missing ScriptRunContext! This warning can be ignored when running in bare mode.\n",
      "2024-11-13 16:37:46.552 Thread 'MainThread': missing ScriptRunContext! This warning can be ignored when running in bare mode.\n",
      "2024-11-13 16:37:46.554 Thread 'MainThread': missing ScriptRunContext! This warning can be ignored when running in bare mode.\n",
      "2024-11-13 16:37:46.557 Thread 'MainThread': missing ScriptRunContext! This warning can be ignored when running in bare mode.\n",
      "2024-11-13 16:37:46.558 Thread 'MainThread': missing ScriptRunContext! This warning can be ignored when running in bare mode.\n",
      "2024-11-13 16:37:46.561 Thread 'MainThread': missing ScriptRunContext! This warning can be ignored when running in bare mode.\n",
      "2024-11-13 16:37:46.562 Thread 'MainThread': missing ScriptRunContext! This warning can be ignored when running in bare mode.\n",
      "2024-11-13 16:37:46.563 Thread 'MainThread': missing ScriptRunContext! This warning can be ignored when running in bare mode.\n",
      "2024-11-13 16:37:46.565 Thread 'MainThread': missing ScriptRunContext! This warning can be ignored when running in bare mode.\n",
      "2024-11-13 16:37:46.712 Thread 'MainThread': missing ScriptRunContext! This warning can be ignored when running in bare mode.\n",
      "2024-11-13 16:37:47.049 Thread 'MainThread': missing ScriptRunContext! This warning can be ignored when running in bare mode.\n",
      "2024-11-13 16:37:47.049 Thread 'MainThread': missing ScriptRunContext! This warning can be ignored when running in bare mode.\n"
     ]
    }
   ],
   "source": [
    "var_type = st.sidebar.selectbox(\"Choose the variable\", (\"Temp_2m\", \"Wind\", \"Precipitation\",\"Relative Humidity\"))\n",
    "\n",
    "if var_type == 'Wind':\n",
    "    plot_type = st.sidebar.selectbox(\"Choose Plot Type\", (\"Wind Rose\", \"Spatial Wind Vectors\", \"Time Series\"))\n",
    "    if plot_type == \"Wind Rose\":\n",
    "        st.header(\"Wind Rose\")\n",
    "        lat_loc, lon_loc = user_input_loc(lat,lon)\n",
    "        level_sel = st.sidebar.selectbox(\"Select Level (hPa)\", ds_u.level.values)\n",
    "\n",
    "        speed_loc, direction_loc = calculate_wind(ds_u['uwnd'].sel(lat=lat_loc,lon=lon_loc,method='nearest'),\n",
    "                                          ds_v['vwnd'].sel(lat=lat_loc,lon=lon_loc,method='nearest'))\n",
    "\n",
    "        plot_wind_rose(speed_loc.sel(level=level_sel).values, \n",
    "                       direction_loc.sel(level=level_sel).values,\n",
    "                       speed_loc.lat.values,speed_loc.lon.values)\n",
    "\n",
    "    elif plot_type == \"Spatial Wind Vectors\":\n",
    "        st.header(\"Spatial Wind Vectors\")        \n",
    "        [lat_min, lat_max, lon_min, lon_max] = user_input_box(lat,lon)\n",
    "        \n",
    "        level_sel = st.sidebar.selectbox(\"Select Level (hPa)\", ds_u.level.values)\n",
    "        time_sel = st.sidebar.selectbox(\"Select Month\", np.arange(1,13))\n",
    "        \n",
    "        ds_u_subset = ds_u['uwnd'].sel(lat=slice(lat_max, lat_min), \n",
    "                                       lon=slice(lon_min, lon_max),\n",
    "                                       level=level_sel)\n",
    "        ds_v_subset = ds_v['vwnd'].sel(lat=slice(lat_max, lat_min), \n",
    "                                       lon=slice(lon_min, lon_max),\n",
    "                                       level=level_sel)\n",
    "        plot_wind_vectors(ds_u_subset[time_sel-1,:,:], ds_u_subset[time_sel-1,:,:], \n",
    "                          lat_min, lat_max, lon_min, lon_max,time_sel)\n",
    "\n",
    "    elif plot_type == \"Time Series\":\n",
    "        st.header(\"Wind Speed Time Series\")\n",
    "        lat_loc, lon_loc = user_input_loc(lat,lon)\n",
    "        level_sel = st.sidebar.selectbox(\"Select Level (hPa)\", ds_u.level.values)\n",
    "        speed_loc, direction_loc = calculate_wind(ds_u['uwnd'].sel(lat=lat_loc,lon=lon_loc,method='nearest'),\n",
    "                                  ds_v['vwnd'].sel(lat=lat_loc,lon=lon_loc,method='nearest'))\n",
    "        plot_time_series(speed_loc.sel(level=level_sel),direction_loc.sel(level=level_sel))\n",
    "########################### 2m Temperature\n",
    "elif var_type == 'Temp_2m':\n",
    "    plot_type = st.sidebar.selectbox(\"Choose Plot Type\", (\"Spatial plot\", \"Time Series\"))\n",
    "    if plot_type == 'Spatial plot':\n",
    "        st.header(\"Spatial plot\")        \n",
    "        [lat_min, lat_max, lon_min, lon_max] = user_input_box(lat,lon)\n",
    "        ds_temp_subset = ds_temp['air'].sel(lat=slice(lat_max, lat_min), lon=slice(lon_min, lon_max))\n",
    "        time_sel = st.sidebar.selectbox(\"Select Month\", np.arange(1,13))\n",
    "\n",
    "        plot_spatial2(ds_temp_subset.sel(level=2), lat_min, lat_max, lon_min, lon_max,time_sel)\n",
    "\n",
    "    else:\n",
    "        st.header(\"Time series plot\")\n",
    "        lat_loc, lon_loc = user_input_loc(lat,lon)\n",
    "        temp_loc = ds_temp['air'].sel(lat=lat_loc,lon=lon_loc,method='nearest')\n",
    "        plot_time_series2(temp_loc.isel(level=0))\n",
    "##################################### Precipitation        \n",
    "elif var_type == 'Precipitation':\n",
    "    plot_type = st.sidebar.selectbox(\"Choose Plot Type\", (\"Spatial plot\", \"Time Series\"))\n",
    "    if plot_type == 'Spatial plot':\n",
    "        st.header(\"Spatial plot\")\n",
    "        [lat_min, lat_max, lon_min, lon_max] = user_input_box(lat,lon)        \n",
    "        ds_pr_subset = ds_pr['precip'].sel(lat=slice(lat_min, lat_max), lon=slice(lon_min, lon_max))\n",
    "        time_sel = st.sidebar.selectbox(\"Select Month\", np.arange(1,13))\n",
    "        plot_spatial2(ds_pr_subset, lat_min, lat_max, lon_min, lon_max,time_sel)\n",
    "    else:\n",
    "        st.header(\"Time series plot\")\n",
    "        lat_loc, lon_loc = user_input_loc(lat,lon)\n",
    "        pr_loc = ds_pr['precip'].sel(lat=lat_loc,lon=lon_loc,method='nearest')\n",
    "        plot_time_series2(pr_loc)\n",
    "######################################## Relative Humidity\n",
    "else:\n",
    "    plot_type = st.sidebar.selectbox(\"Choose Plot Type\", (\"Spatial plot\", \"Time Series\"))\n",
    "    if plot_type == 'Spatial plot':\n",
    "        st.header(\"Spatial plot\")        \n",
    "        [lat_min, lat_max, lon_min, lon_max] = user_input_box(lat,lon)\n",
    "        ds_rh_subset = ds_rh['rhum'].sel(lat=slice(lat_max, lat_min), lon=slice(lon_min, lon_max))\n",
    "        time_sel = st.sidebar.selectbox(\"Select Month\", np.arange(1,13))\n",
    "        level_sel = st.sidebar.selectbox(\"Select Level (hPa)\", ds_rh.level.values)\n",
    "\n",
    "        plot_spatial2(ds_rh_subset.sel(level=level_sel), lat_min, lat_max, lon_min, lon_max,time_sel)\n",
    "    else:\n",
    "        st.header(\"Time series plot\")\n",
    "        lat_loc, lon_loc = user_input_loc(lat,lon)\n",
    "        rh_loc = ds_rh['rhum'].sel(lat=lat_loc,lon=lon_loc,method='nearest')\n",
    "        level_sel = st.sidebar.selectbox(\"Select Level (hPa)\", ds_rh.level.values)\n",
    "        plot_time_series2(rh_loc.sel(level=level_sel))  "
   ]
  }
 ],
 "metadata": {
  "language_info": {
   "codemirror_mode": {
    "name": "ipython",
    "version": 3
   },
   "file_extension": ".py",
   "mimetype": "text/x-python",
   "name": "python",
   "nbconvert_exporter": "python",
   "pygments_lexer": "ipython3",
   "version": 3
  }
 },
 "nbformat": 4,
 "nbformat_minor": 2
}
